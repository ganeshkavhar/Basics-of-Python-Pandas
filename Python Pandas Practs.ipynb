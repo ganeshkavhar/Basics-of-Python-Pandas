{
 "cells": [
  {
   "cell_type": "code",
   "execution_count": 4,
   "id": "64a32d05",
   "metadata": {},
   "outputs": [
    {
     "name": "stdout",
     "output_type": "stream",
     "text": [
      "0     Harry\n",
      "1       Sam\n",
      "2    Juliet\n",
      "3    Robert\n",
      "4       Max\n",
      "5     coder\n",
      "dtype: object\n"
     ]
    },
    {
     "data": {
      "text/plain": [
       "dtype('O')"
      ]
     },
     "execution_count": 4,
     "metadata": {},
     "output_type": "execute_result"
    }
   ],
   "source": [
    "#importing pandas\n",
    "import pandas as pd\n",
    "#creating  list \n",
    "data=[\"Harry\",\"Sam\",\"Juliet\",\"Robert\",\"Max\",\"coder\"]\n",
    "#creating pandas Series\n",
    "df=pd.Series(data)\n",
    "#printing Series\n",
    "print(df)\n",
    "df.dtypes"
   ]
  },
  {
   "cell_type": "code",
   "execution_count": 3,
   "id": "16b9f7a0",
   "metadata": {},
   "outputs": [
    {
     "name": "stdout",
     "output_type": "stream",
     "text": [
      "        0\n",
      "0   Harry\n",
      "1     Sam\n",
      "2  Juliet\n",
      "3  Robert\n",
      "4     Max\n"
     ]
    },
    {
     "data": {
      "text/plain": [
       "0    object\n",
       "dtype: object"
      ]
     },
     "execution_count": 3,
     "metadata": {},
     "output_type": "execute_result"
    }
   ],
   "source": [
    "#importing pandas\n",
    "import pandas as pd\n",
    "#creating list\n",
    "data=[\"Harry\",\"Sam\",\"Juliet\",\"Robert\",\"Max\"]\n",
    "#creating DatFrame from list\n",
    "df=pd.DataFrame(data)\n",
    "#printing DataFrame\n",
    "print(df)\n",
    "df.dtypes"
   ]
  },
  {
   "cell_type": "code",
   "execution_count": 5,
   "id": "46b4b1f2",
   "metadata": {},
   "outputs": [
    {
     "name": "stdout",
     "output_type": "stream",
     "text": [
      "a     Harry\n",
      "b       Sam\n",
      "c    Juliet\n",
      "d    Robert\n",
      "e       Max\n",
      "dtype: object\n"
     ]
    }
   ],
   "source": [
    "#importing pandas\n",
    "import pandas as pd\n",
    "data=[\"Harry\",\"Sam\",\"Juliet\",\"Robert\",\"Max\"]\n",
    "#creating series with index valuesapplying Index to Series\n",
    "df=pd.Series(data,index=['a','b','c','d','e']) # \n",
    "#printing series\n",
    "print(df)"
   ]
  },
  {
   "cell_type": "code",
   "execution_count": 6,
   "id": "a8aabb77",
   "metadata": {},
   "outputs": [
    {
     "name": "stdout",
     "output_type": "stream",
     "text": [
      "        0\n",
      "a   Harry\n",
      "b     Sam\n",
      "c  Juliet\n",
      "d  Robert\n",
      "e     Max\n"
     ]
    }
   ],
   "source": [
    "#importing pandas\n",
    "import pandas as pd\n",
    "#creating list\n",
    "data=[\"Harry\",\"Sam\",\"Juliet\",\"Robert\",\"Max\"]\n",
    "#creating DataFrame from list and give index values\n",
    "df=pd.DataFrame(data,index=['a','b','c','d','e']) #Applying index to DataFrames\n",
    "#printing DataFrame\n",
    "print(df)"
   ]
  },
  {
   "cell_type": "code",
   "execution_count": 8,
   "id": "de545843",
   "metadata": {},
   "outputs": [
    {
     "name": "stdout",
     "output_type": "stream",
     "text": [
      "English_Marks    [89, 85, 92, 94, 99]\n",
      "Maths_Marks      [78, 82, 91, 67, 89]\n",
      "dtype: object\n"
     ]
    }
   ],
   "source": [
    "#importing pandas\n",
    "import pandas as pd\n",
    "#creating dictionary\n",
    "data={\"English_Marks\":[89,85,92,94,99],\n",
    "\"Maths_Marks\":[78,82,91,67,89]}\n",
    "#creating a Series from dictionary\n",
    "df=pd.Series(data)\n",
    "#printing Series\n",
    "print(df)"
   ]
  },
  {
   "cell_type": "code",
   "execution_count": 9,
   "id": "a9418d08",
   "metadata": {},
   "outputs": [
    {
     "name": "stdout",
     "output_type": "stream",
     "text": [
      "   English_Marks  Maths_Marks\n",
      "0             89           78\n",
      "1             85           82\n",
      "2             92           91\n",
      "3             94           67\n",
      "4             99           89\n"
     ]
    }
   ],
   "source": [
    "#importing pandas\n",
    "import pandas as pd\n",
    "#creating dictionary\n",
    "data={\"English_Marks\":[89,85,92,94,99],\n",
    "\"Maths_Marks\":[78,82,91,67,89]}\n",
    "#creating a Series from dictionary\n",
    "df=pd.DataFrame(data)\n",
    "#printing Series\n",
    "print(df)"
   ]
  },
  {
   "cell_type": "code",
   "execution_count": 10,
   "id": "274decd1",
   "metadata": {},
   "outputs": [
    {
     "name": "stdout",
     "output_type": "stream",
     "text": [
      "   English_Marks  Maths_Marks\n",
      "a             89           78\n",
      "b             85           82\n",
      "c             92           91\n",
      "d             94           67\n",
      "e             99           89\n"
     ]
    }
   ],
   "source": [
    "#importing pandas\n",
    "import pandas as pd\n",
    "#creating dictionary\n",
    "data={\"English_Marks\":[89,85,92,94,99],\n",
    "\"Maths_Marks\":[78,82,91,67,89]}\n",
    "#creating DataFrame from dictionary and pass index values as we required\n",
    "df=pd.DataFrame(data, index=['a','b','c','d','e'])\n",
    "#printing DataFrame\n",
    "print(df)"
   ]
  },
  {
   "cell_type": "code",
   "execution_count": null,
   "id": "40282e63",
   "metadata": {},
   "outputs": [],
   "source": [
    "#Read CSV\n",
    "import pandas as pd\n",
    "data = pd.read_csv('https://raw.githubusercontent.com/jbrownlee/Datasets/master/daily-total-female-births.csv')\n",
    "df=pd.Series(data['Date'])\n",
    "print(type(df))\n",
    "print(df.head(6))"
   ]
  },
  {
   "cell_type": "code",
   "execution_count": null,
   "id": "11d29a4c",
   "metadata": {},
   "outputs": [],
   "source": [
    "import pandas as pd\n",
    "data1=pd.Series([1,4,2,7,8],index=['a','b','c', 'd','e'])\n",
    "data2=pd.Series([3,6,1,0,8],index=['a','b','c', 'd','e'])\n",
    "print(\"data1:\\n\", data1)\n",
    "print()\n",
    "print(\"data2:\\n\", data2)\n",
    "print()\n",
    "df=data1.add(data2)\n",
    "print(\"data1+data2:\\n\",df)"
   ]
  },
  {
   "cell_type": "code",
   "execution_count": 13,
   "id": "2f63a972",
   "metadata": {},
   "outputs": [
    {
     "name": "stdout",
     "output_type": "stream",
     "text": [
      "data1:\n",
      " a    1\n",
      "b    4\n",
      "c    2\n",
      "d    7\n",
      "e    8\n",
      "dtype: int64\n",
      "\n",
      "data2:\n",
      " a    3\n",
      "b    6\n",
      "c    1\n",
      "d    0\n",
      "e    8\n",
      "dtype: int64\n",
      "\n",
      "data1+data2:\n",
      " a   -2\n",
      "b   -2\n",
      "c    1\n",
      "d    7\n",
      "e    0\n",
      "dtype: int64\n"
     ]
    }
   ],
   "source": [
    "import pandas as pd\n",
    "data1=pd.Series([1,4,2,7,8],index=['a','b','c', 'd','e'])\n",
    "data2=pd.Series([3,6,1,0,8],index=['a','b','c', 'd','e'])\n",
    "print(\"data1:\\n\", data1)\n",
    "print()\n",
    "print(\"data2:\\n\", data2)\n",
    "print()\n",
    "df=data1.sub(data2)\n",
    "print(\"data1+data2:\\n\",df)"
   ]
  },
  {
   "cell_type": "code",
   "execution_count": null,
   "id": "fb7ff4f2",
   "metadata": {},
   "outputs": [],
   "source": [
    "import pandas as pd\n",
    "df = pd.read_csv(r\"https://raw.githubusercontent.com/jbrownlee/Datasets/master/daily-total-female-births.csv\")\n",
    "df\n",
    "print(type(df))"
   ]
  },
  {
   "cell_type": "code",
   "execution_count": null,
   "id": "0c7f90e8",
   "metadata": {},
   "outputs": [],
   "source": []
  }
 ],
 "metadata": {
  "kernelspec": {
   "display_name": "Python 3 (ipykernel)",
   "language": "python",
   "name": "python3"
  },
  "language_info": {
   "codemirror_mode": {
    "name": "ipython",
    "version": 3
   },
   "file_extension": ".py",
   "mimetype": "text/x-python",
   "name": "python",
   "nbconvert_exporter": "python",
   "pygments_lexer": "ipython3",
   "version": "3.11.5"
  }
 },
 "nbformat": 4,
 "nbformat_minor": 5
}
